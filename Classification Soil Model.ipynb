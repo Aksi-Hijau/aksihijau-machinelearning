{
 "cells": [
  {
   "cell_type": "code",
   "execution_count": 1,
   "id": "09acb318-a0e3-41ac-9a2f-69da874424b9",
   "metadata": {},
   "outputs": [],
   "source": [
    "import tensorflow as tf\n",
    "import tensorflow_hub as hub\n",
    "import matplotlib.pyplot as plt\n",
    "\n",
    "import cv2\n",
    "import numpy as np\n",
    "import os\n",
    "import math\n",
    "import sklearn.metrics as metrics\n",
    "from sklearn.metrics import accuracy_score\n",
    "import time\n",
    "\n",
    "from tensorflow import lite\n",
    "from tensorflow import keras\n",
    "from imutils import paths\n",
    "from PIL import Image\n",
    "\n",
    "from tensorflow.keras.layers import Dropout, MaxPooling2D, AveragePooling2D, Dense, Flatten, Input, Conv2D, add, Activation\n",
    "from tensorflow.keras.layers import (Dense, Dropout, Activation, Flatten, Reshape, Layer,\n",
    "                          BatchNormalization, LocallyConnected2D,\n",
    "                          ZeroPadding2D, Conv2D, MaxPooling2D, Conv2DTranspose,\n",
    "                          GaussianNoise, UpSampling2D, Input)\n",
    "\n",
    "from tensorflow.keras import applications\n",
    "from tensorflow.keras.utils import plot_model\n",
    "from tensorflow.keras.layers import BatchNormalization\n",
    "from tensorflow.keras.models import Sequential , Model , load_model\n",
    "from tensorflow.keras.preprocessing.image import load_img , img_to_array , ImageDataGenerator\n",
    "from tensorflow.keras.utils import to_categorical\n",
    "from tensorflow.keras.optimizers import Adam, SGD\n",
    "from tensorflow.keras.callbacks import ModelCheckpoint, ReduceLROnPlateau\n",
    "\n",
    "from sklearn.metrics import classification_report\n",
    "from sklearn.model_selection import train_test_split\n",
    "from sklearn.preprocessing import LabelBinarizer\n",
    "\n",
    "from PIL import Image\n",
    "import matplotlib.pyplot as plt\n",
    "\n",
    "import cv2\n",
    "from imutils import paths\n",
    "import numpy as np\n",
    "import os\n",
    "import math\n",
    "import sklearn.metrics as metrics\n",
    "from sklearn.metrics import accuracy_score\n",
    "import time"
   ]
  },
  {
   "cell_type": "code",
   "execution_count": 2,
   "id": "0674f312-0019-4c69-b1d4-995a4f9a4070",
   "metadata": {},
   "outputs": [
    {
     "name": "stdout",
     "output_type": "stream",
     "text": [
      "Using https://tfhub.dev/google/tf2-preview/mobilenet_v2/feature_vector/4 with input size (224, 224) and output dimension 1280\n"
     ]
    }
   ],
   "source": [
    "model = (\"mobilenet_v2\", 224, 1280)\n",
    "handle_base, pixels, FV_SIZE = model\n",
    "MODULE_HANDLE =\"https://tfhub.dev/google/tf2-preview/{}/feature_vector/4\".format(handle_base)\n",
    "IMAGE_SIZE = (pixels, pixels)\n",
    "\n",
    "print(\"Using {} with input size {} and output dimension {}\".format(MODULE_HANDLE, IMAGE_SIZE, FV_SIZE))"
   ]
  },
  {
   "cell_type": "code",
   "execution_count": 3,
   "id": "db127501-4ad4-4452-b31c-ca36e9550386",
   "metadata": {},
   "outputs": [],
   "source": [
    "train_data_dir = './soil/train'  \n",
    "val_data_dir = './soil/validation' "
   ]
  },
  {
   "cell_type": "code",
   "execution_count": 4,
   "id": "e2571697-8358-4c7e-bf72-60699ab04a0b",
   "metadata": {},
   "outputs": [],
   "source": [
    "IMAGE_SIZE = (224, 224)\n",
    "BATCH_SIZE = 32"
   ]
  },
  {
   "cell_type": "code",
   "execution_count": 5,
   "id": "166edab9-e20d-4b90-bb7f-cc133e470dcb",
   "metadata": {},
   "outputs": [
    {
     "name": "stdout",
     "output_type": "stream",
     "text": [
      "Found 336 images belonging to 6 classes.\n",
      "Found 225 images belonging to 6 classes.\n"
     ]
    }
   ],
   "source": [
    "#Image Augmentation\n",
    "\n",
    "train_datagen = ImageDataGenerator(rescale=1./255,\n",
    "                                   fill_mode='nearest')\n",
    "                            \n",
    "\n",
    "val_datagen = ImageDataGenerator(rescale=1./255)\n",
    "\n",
    "train_dataset = train_datagen.flow_from_directory(  \n",
    "         train_data_dir,\n",
    "         target_size=(IMAGE_SIZE),  \n",
    "         batch_size=BATCH_SIZE,\n",
    "         shuffle=True) \n",
    "\n",
    "validation_dataset = val_datagen.flow_from_directory(  \n",
    "         val_data_dir,  \n",
    "         target_size=(IMAGE_SIZE),  \n",
    "         batch_size=BATCH_SIZE,\n",
    "         shuffle=True) "
   ]
  },
  {
   "cell_type": "code",
   "execution_count": 6,
   "id": "288771b2-1f15-4314-926d-eadeda6a66f7",
   "metadata": {},
   "outputs": [],
   "source": [
    "num_examples= len(train_dataset.filenames)\n",
    "num_classes= len(train_dataset.class_indices)"
   ]
  },
  {
   "cell_type": "code",
   "execution_count": 7,
   "id": "e788e349-1b66-4763-a844-7fb486b05354",
   "metadata": {},
   "outputs": [],
   "source": [
    "do_fine_tuning = False "
   ]
  },
  {
   "cell_type": "code",
   "execution_count": 8,
   "id": "725663fc-e835-4e52-be28-5039d112b8b6",
   "metadata": {},
   "outputs": [],
   "source": [
    "feature_extractor = hub.KerasLayer(\n",
    "    MODULE_HANDLE,\n",
    "    input_shape=IMAGE_SIZE + (3,),\n",
    "    output_shape=[FV_SIZE],\n",
    "    trainable=do_fine_tuning,\n",
    ")"
   ]
  },
  {
   "cell_type": "code",
   "execution_count": 9,
   "id": "90f01bdf-3644-4ed1-bb6b-3c0a96bb1d64",
   "metadata": {},
   "outputs": [
    {
     "name": "stdout",
     "output_type": "stream",
     "text": [
      "Building model with https://tfhub.dev/google/tf2-preview/mobilenet_v2/feature_vector/4\n",
      "Model: \"sequential\"\n",
      "_________________________________________________________________\n",
      "Layer (type)                 Output Shape              Param #   \n",
      "=================================================================\n",
      "keras_layer (KerasLayer)     (None, 1280)              2257984   \n",
      "_________________________________________________________________\n",
      "dense (Dense)                (None, 6)                 7686      \n",
      "=================================================================\n",
      "Total params: 2,265,670\n",
      "Trainable params: 7,686\n",
      "Non-trainable params: 2,257,984\n",
      "_________________________________________________________________\n"
     ]
    }
   ],
   "source": [
    "print(\"Building model with\", MODULE_HANDLE)\n",
    "\n",
    "model = tf.keras.Sequential(\n",
    "    [feature_extractor, tf.keras.layers.Dense(num_classes, activation=\"softmax\")]\n",
    ")\n",
    "\n",
    "model.summary()"
   ]
  },
  {
   "cell_type": "code",
   "execution_count": 10,
   "id": "79e4c812-2f9f-452a-9540-19422dd3c0c6",
   "metadata": {},
   "outputs": [],
   "source": [
    "NUM_LAYERS = 17\n",
    "\n",
    "if do_fine_tuning:\n",
    "    feature_extractor.trainable = True\n",
    "\n",
    "    for layer in model.layers[-NUM_LAYERS:]:\n",
    "        layer.trainable = True\n",
    "\n",
    "else:\n",
    "    feature_extractor.trainable = False"
   ]
  },
  {
   "cell_type": "code",
   "execution_count": 11,
   "id": "68710774-5d79-4a4a-804b-b715a6483dca",
   "metadata": {},
   "outputs": [],
   "source": [
    "if do_fine_tuning:\n",
    "    model.compile(optimizer=tf.keras.optimizers.SGD(lr=0.002, momentum=0.9),\n",
    "                  loss=tf.keras.losses.SparseCategoricalCrossentropy(),\n",
    "                  metrics=['accuracy'])\n",
    "else:\n",
    "    model.compile(optimizer='adam',\n",
    "                  loss='categorical_crossentropy',\n",
    "                  metrics=['accuracy'])"
   ]
  },
  {
   "cell_type": "code",
   "execution_count": 12,
   "id": "a6757b56-2aff-4913-a310-6566ce5c6407",
   "metadata": {},
   "outputs": [
    {
     "name": "stdout",
     "output_type": "stream",
     "text": [
      "Epoch 1/10\n",
      "11/11 [==============================] - 9s 779ms/step - loss: 1.5909 - accuracy: 0.4018 - val_loss: 1.1887 - val_accuracy: 0.5911\n",
      "Epoch 2/10\n",
      "11/11 [==============================] - 8s 729ms/step - loss: 0.9207 - accuracy: 0.7083 - val_loss: 0.7842 - val_accuracy: 0.7600\n",
      "Epoch 3/10\n",
      "11/11 [==============================] - 8s 719ms/step - loss: 0.6296 - accuracy: 0.8155 - val_loss: 0.5756 - val_accuracy: 0.8311\n",
      "Epoch 4/10\n",
      "11/11 [==============================] - 8s 730ms/step - loss: 0.4887 - accuracy: 0.8601 - val_loss: 0.4813 - val_accuracy: 0.8756\n",
      "Epoch 5/10\n",
      "11/11 [==============================] - 8s 709ms/step - loss: 0.3956 - accuracy: 0.9137 - val_loss: 0.4049 - val_accuracy: 0.9022\n",
      "Epoch 6/10\n",
      "11/11 [==============================] - 8s 732ms/step - loss: 0.3363 - accuracy: 0.9315 - val_loss: 0.3456 - val_accuracy: 0.9156\n",
      "Epoch 7/10\n",
      "11/11 [==============================] - 8s 724ms/step - loss: 0.2831 - accuracy: 0.9315 - val_loss: 0.3139 - val_accuracy: 0.9289\n",
      "Epoch 8/10\n",
      "11/11 [==============================] - 8s 713ms/step - loss: 0.2533 - accuracy: 0.9435 - val_loss: 0.2705 - val_accuracy: 0.9556\n",
      "Epoch 9/10\n",
      "11/11 [==============================] - 8s 759ms/step - loss: 0.2209 - accuracy: 0.9643 - val_loss: 0.2551 - val_accuracy: 0.9511\n",
      "Epoch 10/10\n",
      "11/11 [==============================] - 8s 726ms/step - loss: 0.1946 - accuracy: 0.9702 - val_loss: 0.2170 - val_accuracy: 0.9689\n"
     ]
    }
   ],
   "source": [
    "EPOCHS = 10\n",
    "\n",
    "hist = model.fit(train_dataset,\n",
    "                 epochs=EPOCHS,\n",
    "                 validation_data=validation_dataset)"
   ]
  },
  {
   "cell_type": "code",
   "execution_count": 13,
   "id": "8c9eb116-7649-4f14-9086-6ea96fab58a4",
   "metadata": {},
   "outputs": [
    {
     "name": "stdout",
     "output_type": "stream",
     "text": [
      "8/8 [==============================] - 3s 373ms/step - loss: 0.2170 - accuracy: 0.9689\n",
      "Akurasi Keseluruhan:  96 %\n"
     ]
    }
   ],
   "source": [
    "# Evaluasi model pada data validasi\n",
    "\n",
    "evaluation = model.evaluate(validation_dataset)\n",
    "accuracy = evaluation[1]\n",
    "\n",
    "print(\"Akurasi Keseluruhan: \", int(accuracy * 100), '%')"
   ]
  },
  {
   "cell_type": "code",
   "execution_count": 14,
   "id": "839a6650-012b-42a0-9395-d65a215451c3",
   "metadata": {
    "tags": []
   },
   "outputs": [
    {
     "data": {
      "image/png": "[encoded data removed]",
      "text/plain": [
       "<Figure size 640x480 with 2 Axes>"
      ]
     },
     "metadata": {},
     "output_type": "display_data"
    }
   ],
   "source": [
    "plt.figure(1)  \n",
    "   \n",
    "plt.subplot(211)  \n",
    "plt.plot(hist.history['accuracy'])  \n",
    "plt.plot(hist.history['val_accuracy'])  \n",
    "plt.title('model accuracy')  \n",
    "plt.ylabel('accuracy')  \n",
    "plt.xlabel('epoch')  \n",
    "plt.legend(['train', 'test'], loc='upper left')  \n",
    "   \n",
    "plt.subplot(212)  \n",
    "plt.plot(hist.history['loss'])  \n",
    "plt.plot(hist.history['val_loss'])  \n",
    "plt.title('model loss')  \n",
    "plt.ylabel('loss')  \n",
    "plt.xlabel('epoch')  \n",
    "plt.legend(['train', 'test'], loc='upper left')  \n",
    "plt.show()"
   ]
  },
  {
   "cell_type": "code",
   "execution_count": 15,
   "id": "b97ed773-ead5-4a64-b74e-84b937997031",
   "metadata": {},
   "outputs": [],
   "source": [
    "model.save('soil_classification_96.h5')"
   ]
  },
  {
   "cell_type": "code",
   "execution_count": 16,
   "id": "71ac9899-a060-4776-9e0f-adda5e3b8e6b",
   "metadata": {},
   "outputs": [],
   "source": [
    "mode = \"Speed\" \n",
    "\n",
    "if mode == 'Storage':\n",
    "    optimization = tf.lite.Optimize.OPTIMIZE_FOR_SIZE\n",
    "elif mode == 'Speed':\n",
    "    optimization = tf.lite.Optimize.OPTIMIZE_FOR_LATENCY\n",
    "else:\n",
    "    optimization = tf.lite.Optimize.DEFAULT"
   ]
  },
  {
   "cell_type": "code",
   "execution_count": 17,
   "id": "5cca480a-a531-4016-b8ea-5120724b5ff9",
   "metadata": {},
   "outputs": [
    {
     "name": "stdout",
     "output_type": "stream",
     "text": [
      "WARNING:tensorflow:From C:\\Users\\Pandiepie\\anaconda3\\envs\\tf210\\lib\\site-packages\\tensorflow\\python\\ops\\resource_variable_ops.py:1817: calling BaseResourceVariable.__init__ (from tensorflow.python.ops.resource_variable_ops) with constraint is deprecated and will be removed in a future version.\n",
      "Instructions for updating:\n",
      "If using Keras pass *_constraint arguments to layers.\n"
     ]
    },
    {
     "name": "stderr",
     "output_type": "stream",
     "text": [
      "WARNING:tensorflow:From C:\\Users\\Pandiepie\\anaconda3\\envs\\tf210\\lib\\site-packages\\tensorflow\\python\\ops\\resource_variable_ops.py:1817: calling BaseResourceVariable.__init__ (from tensorflow.python.ops.resource_variable_ops) with constraint is deprecated and will be removed in a future version.\n",
      "Instructions for updating:\n",
      "If using Keras pass *_constraint arguments to layers.\n"
     ]
    },
    {
     "name": "stdout",
     "output_type": "stream",
     "text": [
      "INFO:tensorflow:Assets written to: ./save_model\\assets\n"
     ]
    },
    {
     "name": "stderr",
     "output_type": "stream",
     "text": [
      "INFO:tensorflow:Assets written to: ./save_model\\assets\n"
     ]
    }
   ],
   "source": [
    "saved_model_dir = './save_model'\n",
    "tf.saved_model.save(model, saved_model_dir)"
   ]
  },
  {
   "cell_type": "code",
   "execution_count": 18,
   "id": "bf7f615c-f528-413d-892a-aa45d6aedabc",
   "metadata": {},
   "outputs": [],
   "source": [
    "converter = tf.lite.TFLiteConverter.from_saved_model(saved_model_dir)"
   ]
  },
  {
   "cell_type": "code",
   "execution_count": 19,
   "id": "7af20b5a-1446-4ebd-a7ab-45efbdd84516",
   "metadata": {},
   "outputs": [],
   "source": [
    "converter.optimizations = [tf.lite.Optimize.OPTIMIZE_FOR_SIZE]"
   ]
  },
  {
   "cell_type": "code",
   "execution_count": 21,
   "id": "67bd06dd-b036-4a1e-b6db-9d1e9a95b9c8",
   "metadata": {},
   "outputs": [],
   "source": [
    "tflite_model = converter.convert()\n",
    "with open('soilmodel96.tflite', 'wb') as f:\n",
    " f.write(tflite_model)\n",
    "\n",
    "interpreter = tf.lite.Interpreter(model_content=tflite_model)\n",
    "interpreter.allocate_tensors()\n",
    "\n",
    "input_index = interpreter.get_input_details()[0][\"index\"]\n",
    "output_index = interpreter.get_output_details()[0][\"index\"]"
   ]
  },
  {
   "cell_type": "code",
   "execution_count": null,
   "id": "808fd2ef-33ff-4606-bfe7-53220c40d534",
   "metadata": {},
   "outputs": [],
   "source": []
  }
 ],
 "metadata": {
  "kernelspec": {
   "display_name": "Python 3 (ipykernel)",
   "language": "python",
   "name": "python3"
  },
  "language_info": {
   "codemirror_mode": {
    "name": "ipython",
    "version": 3
   },
   "file_extension": ".py",
   "mimetype": "text/x-python",
   "name": "python",
   "nbconvert_exporter": "python",
   "pygments_lexer": "ipython3",
   "version": "3.7.16"
  }
 },
 "nbformat": 4,
 "nbformat_minor": 5
}
