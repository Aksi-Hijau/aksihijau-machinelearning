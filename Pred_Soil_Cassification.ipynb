{
 "cells": [
  {
   "cell_type": "code",
   "execution_count": 1,
   "id": "ff00fe81-a109-4aa7-84f0-82186ede44b2",
   "metadata": {},
   "outputs": [],
   "source": [
    "import tensorflow as tf\n",
    "import tensorflow_hub as hub\n",
    "import matplotlib.pyplot as plt\n",
    "\n",
    "import cv2\n",
    "import numpy as np\n",
    "import os\n",
    "import math\n",
    "import sklearn.metrics as metrics\n",
    "from sklearn.metrics import accuracy_score\n",
    "import time\n",
    "from tensorflow import keras"
   ]
  },
  {
   "cell_type": "code",
   "execution_count": 2,
   "id": "a97fb3d2-8fb5-43e7-9e55-2abc17e2abe2",
   "metadata": {},
   "outputs": [],
   "source": [
    "path = ('soil_classification_96.h5')\n",
    "\n",
    "model = tf.keras.models.load_model(\n",
    "       (path),\n",
    "       custom_objects={'KerasLayer':hub.KerasLayer}\n",
    ")"
   ]
  },
  {
   "cell_type": "code",
   "execution_count": 3,
   "id": "8f2604ff-b1df-4f79-985e-dba4fa37214f",
   "metadata": {},
   "outputs": [],
   "source": [
    "# Load the image and preprocess it\n",
    "\n",
    "img = cv2.imread('1d447b4cfd644b33a1615ec7c2035a7a-5a9b4ad6f1334464e9492725.jpg')\n",
    "img = cv2.resize(img, (224, 224))\n",
    "img_array = np.expand_dims(img, axis=0)\n",
    "img_array = img_array.astype('float32') / 255.\n",
    "\n",
    "# Make a prediction using the model\n",
    "prediction = model.predict(img_array)\n",
    "\n",
    "# Get the predicted class and probability\n",
    "class_names = ['Aluvial','Andosol', 'Mediteran', 'Organosol', 'Podsolit', 'Regosol']\n",
    "predicted_class = class_names[np.argmax(prediction)]\n",
    "predicted_prob = np.max(prediction)\n",
    "\n",
    "# Display the input image and predicted class\n",
    "\n",
    "cv2.putText(img, f'{predicted_class} = {predicted_prob}', (10, 30), cv2.FONT_HERSHEY_SIMPLEX, 0.6, (0, 0, 255), 2)\n",
    "cv2.imshow('Input Image', img)\n",
    "cv2.waitKey(0)\n",
    "cv2.destroyAllWindows()"
   ]
  },
  {
   "cell_type": "code",
   "execution_count": null,
   "id": "db51f5dc-18c1-4059-9453-677baf797d18",
   "metadata": {},
   "outputs": [],
   "source": []
  }
 ],
 "metadata": {
  "kernelspec": {
   "display_name": "Python 3 (ipykernel)",
   "language": "python",
   "name": "python3"
  },
  "language_info": {
   "codemirror_mode": {
    "name": "ipython",
    "version": 3
   },
   "file_extension": ".py",
   "mimetype": "text/x-python",
   "name": "python",
   "nbconvert_exporter": "python",
   "pygments_lexer": "ipython3",
   "version": "3.7.16"
  }
 },
 "nbformat": 4,
 "nbformat_minor": 5
}
