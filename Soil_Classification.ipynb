{
 "cells": [
  {
   "cell_type": "code",
   "execution_count": 148,
   "id": "cc497ea7-633f-49a5-b694-9bafdd5da626",
   "metadata": {},
   "outputs": [],
   "source": [
    "import tensorflow as tf\n",
    "import tensorflow_hub as hub\n",
    "from tensorflow import keras\n",
    "\n",
    "from tensorflow.keras.layers import Dropout, MaxPooling2D, AveragePooling2D, Dense, Flatten, Input, Conv2D, add, Activation\n",
    "from tensorflow.keras.layers import (Dense, Dropout, Activation, Flatten, Reshape, Layer,\n",
    "                          BatchNormalization, LocallyConnected2D,\n",
    "                          ZeroPadding2D, Conv2D, MaxPooling2D, Conv2DTranspose,\n",
    "                          GaussianNoise, UpSampling2D, Input)\n",
    "\n",
    "from tensorflow.keras import applications\n",
    "from tensorflow.keras.utils import plot_model\n",
    "from tensorflow.keras.layers import BatchNormalization\n",
    "from tensorflow.keras.models import Sequential , Model , load_model\n",
    "from tensorflow.keras.preprocessing.image import load_img , img_to_array , ImageDataGenerator\n",
    "from tensorflow.keras.utils import to_categorical\n",
    "from tensorflow.keras.optimizers import Adam, SGD\n",
    "from tensorflow.keras.callbacks import ModelCheckpoint, ReduceLROnPlateau\n",
    "\n",
    "from sklearn.metrics import classification_report\n",
    "from sklearn.model_selection import train_test_split\n",
    "from sklearn.preprocessing import LabelBinarizer\n",
    "\n",
    "from PIL import Image\n",
    "import matplotlib.pyplot as plt\n",
    "\n",
    "import cv2\n",
    "from imutils import paths\n",
    "import numpy as np\n",
    "import os\n",
    "import math\n",
    "import sklearn.metrics as metrics\n",
    "from sklearn.metrics import accuracy_score\n",
    "import time\n"
   ]
  },
  {
   "cell_type": "code",
   "execution_count": 149,
   "id": "04b1aaf4-e881-4911-9112-b3544d214c7e",
   "metadata": {},
   "outputs": [
    {
     "name": "stdout",
     "output_type": "stream",
     "text": [
      "Using https://tfhub.dev/google/tf2-preview/mobilenet_v2/feature_vector/4 with input size (224, 224) and output dimension 1280\n"
     ]
    }
   ],
   "source": [
    "module_selection = (\"mobilenet_v2\", 224, 1280) #@param [\"(\\\"mobilenet_v2\\\", 224, 1280)\", \"(\\\"inception_v3\\\", 299, 2048)\"] {type:\"raw\", allow-input: true}\n",
    "handle_base, pixels, FV_SIZE = module_selection\n",
    "MODULE_HANDLE =\"https://tfhub.dev/google/tf2-preview/{}/feature_vector/4\".format(handle_base)\n",
    "IMAGE_SIZE = (pixels, pixels)\n",
    "print(\"Using {} with input size {} and output dimension {}\".format(MODULE_HANDLE, IMAGE_SIZE, FV_SIZE))"
   ]
  },
  {
   "cell_type": "code",
   "execution_count": 150,
   "id": "25a667f4-db53-4f07-9898-a1b28b706a33",
   "metadata": {},
   "outputs": [],
   "source": [
    "train_data_dir = 'C:\\\\Users\\\\Pandiepie\\\\soil\\\\train'  \n",
    "test_data_dir = 'C:\\\\Users\\Pandiepie\\soil\\\\test' "
   ]
  },
  {
   "cell_type": "code",
   "execution_count": 151,
   "id": "5dddcf35-ca90-4719-8174-100a5c239083",
   "metadata": {},
   "outputs": [],
   "source": [
    "IMG_SIZE = (224, 224)\n",
    "BATCH_SIZE = 10"
   ]
  },
  {
   "cell_type": "code",
   "execution_count": 152,
   "id": "59e60423-7b14-4983-9621-08f3efd08f0d",
   "metadata": {},
   "outputs": [
    {
     "name": "stdout",
     "output_type": "stream",
     "text": [
      "Found 482 images belonging to 8 classes.\n",
      "Found 326 images belonging to 8 classes.\n"
     ]
    }
   ],
   "source": [
    "scale_image = ImageDataGenerator(rescale=1. / 255)  \n",
    "\n",
    "train_dataset = scale_image.flow_from_directory(  \n",
    "         train_data_dir,  \n",
    "         target_size=(IMG_SIZE),  \n",
    "         batch_size=batch_size,   \n",
    "         shuffle=True) \n",
    "\n",
    "validation_dataset = scale_image.flow_from_directory(  \n",
    "         test_data_dir,  \n",
    "         target_size=(IMG_SIZE),  \n",
    "         batch_size=batch_size,  \n",
    "         shuffle=True) "
   ]
  },
  {
   "cell_type": "code",
   "execution_count": 153,
   "id": "94f2ecff-3568-4804-891b-ad70d4a98f49",
   "metadata": {},
   "outputs": [],
   "source": [
    "num_examples= len(train_dataset.filenames)\n",
    "num_classes= len(train_dataset.class_indices)\n",
    "BATCH_SIZE = 32"
   ]
  },
  {
   "cell_type": "code",
   "execution_count": 154,
   "id": "e4f320ef-d8fd-4ee1-a515-b213868ae118",
   "metadata": {},
   "outputs": [],
   "source": [
    "do_fine_tuning = False "
   ]
  },
  {
   "cell_type": "code",
   "execution_count": 155,
   "id": "c130d928-be17-4ef0-8961-11360025c0bd",
   "metadata": {},
   "outputs": [],
   "source": [
    "feature_extractor = hub.KerasLayer(\n",
    "    MODULE_HANDLE,\n",
    "    input_shape=IMAGE_SIZE + (3,),\n",
    "    output_shape=[FV_SIZE],\n",
    "    trainable=do_fine_tuning,\n",
    ")"
   ]
  },
  {
   "cell_type": "code",
   "execution_count": 156,
   "id": "170272da-8fad-42b6-9a34-115ea486be8b",
   "metadata": {},
   "outputs": [
    {
     "name": "stdout",
     "output_type": "stream",
     "text": [
      "Building model with https://tfhub.dev/google/tf2-preview/mobilenet_v2/feature_vector/4\n",
      "Model: \"sequential_12\"\n",
      "_________________________________________________________________\n",
      "Layer (type)                 Output Shape              Param #   \n",
      "=================================================================\n",
      "keras_layer_10 (KerasLayer)  (None, 1280)              2257984   \n",
      "_________________________________________________________________\n",
      "dense_12 (Dense)             (None, 8)                 10248     \n",
      "=================================================================\n",
      "Total params: 2,268,232\n",
      "Trainable params: 10,248\n",
      "Non-trainable params: 2,257,984\n",
      "_________________________________________________________________\n"
     ]
    }
   ],
   "source": [
    "print(\"Building model with\", MODULE_HANDLE)\n",
    "\n",
    "model = tf.keras.Sequential(\n",
    "    [feature_extractor, tf.keras.layers.Dense(num_classes, activation=\"softmax\")]\n",
    ")\n",
    "\n",
    "model.summary()"
   ]
  },
  {
   "cell_type": "code",
   "execution_count": 157,
   "id": "2e403d8e-dd64-4ddd-bd34-01fea034d6d4",
   "metadata": {},
   "outputs": [],
   "source": [
    "# @title (Optional) Unfreeze some layers\n",
    "NUM_LAYERS = 17  # @param {type:\"slider\", min:1, max:50, step:1}\n",
    "\n",
    "if do_fine_tuning:\n",
    "    feature_extractor.trainable = True\n",
    "\n",
    "    for layer in model.layers[-NUM_LAYERS:]:\n",
    "        layer.trainable = True\n",
    "\n",
    "else:\n",
    "    feature_extractor.trainable = False"
   ]
  },
  {
   "cell_type": "code",
   "execution_count": 158,
   "id": "207bcd9e-9a99-41be-987f-22ac2f2b507d",
   "metadata": {},
   "outputs": [],
   "source": [
    "if do_fine_tuning:\n",
    "    model.compile(optimizer=tf.keras.optimizers.SGD(lr=0.002, momentum=0.9),\n",
    "                  loss=tf.keras.losses.SparseCategoricalCrossentropy(),\n",
    "                  metrics=['accuracy'])\n",
    "else:\n",
    "    model.compile(optimizer='adam',\n",
    "                  loss='categorical_crossentropy',\n",
    "                  metrics=['accuracy'])"
   ]
  },
  {
   "cell_type": "code",
   "execution_count": 159,
   "id": "2e1945a8-356e-4056-b344-8a0676184a83",
   "metadata": {},
   "outputs": [
    {
     "name": "stdout",
     "output_type": "stream",
     "text": [
      "Epoch 1/10\n",
      "16/16 [==============================] - 19s 1s/step - loss: 1.8733 - accuracy: 0.3465 - val_loss: 1.3397 - val_accuracy: 0.5675\n",
      "Epoch 2/10\n",
      "16/16 [==============================] - 15s 923ms/step - loss: 1.0929 - accuracy: 0.6598 - val_loss: 0.9073 - val_accuracy: 0.6902\n",
      "Epoch 3/10\n",
      "16/16 [==============================] - 18s 1s/step - loss: 0.7852 - accuracy: 0.7365 - val_loss: 0.7056 - val_accuracy: 0.7914\n",
      "Epoch 4/10\n",
      "16/16 [==============================] - 16s 1s/step - loss: 0.5943 - accuracy: 0.8257 - val_loss: 0.5674 - val_accuracy: 0.8436\n",
      "Epoch 5/10\n",
      "16/16 [==============================] - 16s 1s/step - loss: 0.4934 - accuracy: 0.8714 - val_loss: 0.4729 - val_accuracy: 0.8773\n",
      "Epoch 6/10\n",
      "16/16 [==============================] - 16s 987ms/step - loss: 0.4230 - accuracy: 0.8900 - val_loss: 0.4094 - val_accuracy: 0.9018\n",
      "Epoch 7/10\n",
      "16/16 [==============================] - 15s 910ms/step - loss: 0.3601 - accuracy: 0.9170 - val_loss: 0.3522 - val_accuracy: 0.9325\n",
      "Epoch 8/10\n",
      "16/16 [==============================] - 14s 902ms/step - loss: 0.3178 - accuracy: 0.9419 - val_loss: 0.3156 - val_accuracy: 0.9509\n",
      "Epoch 9/10\n",
      "16/16 [==============================] - 14s 896ms/step - loss: 0.2799 - accuracy: 0.9564 - val_loss: 0.2717 - val_accuracy: 0.9601\n",
      "Epoch 10/10\n",
      "16/16 [==============================] - 14s 905ms/step - loss: 0.2452 - accuracy: 0.9544 - val_loss: 0.2516 - val_accuracy: 0.9632\n"
     ]
    }
   ],
   "source": [
    "EPOCHS = 10\n",
    "\n",
    "hist = model.fit(train_dataset,\n",
    "                 epochs=EPOCHS,\n",
    "                 validation_data=validation_dataset)"
   ]
  },
  {
   "cell_type": "code",
   "execution_count": 160,
   "id": "a1514b38-8846-4cd6-9e3e-25f2bcb5cecd",
   "metadata": {},
   "outputs": [
    {
     "data": {
      "image/png": "[encoded data removed]",
      "text/plain": [
       "<Figure size 640x480 with 2 Axes>"
      ]
     },
     "metadata": {},
     "output_type": "display_data"
    }
   ],
   "source": [
    "plt.figure(1)  \n",
    "   \n",
    "plt.subplot(211)  \n",
    "plt.plot(hist.history['accuracy'])  \n",
    "plt.plot(hist.history['val_accuracy'])  \n",
    "plt.title('model accuracy')  \n",
    "plt.ylabel('accuracy')  \n",
    "plt.xlabel('epoch')  \n",
    "plt.legend(['train', 'test'], loc='upper left')  \n",
    "   \n",
    "plt.subplot(212)  \n",
    "plt.plot(hist.history['loss'])  \n",
    "plt.plot(hist.history['val_loss'])  \n",
    "plt.title('model loss')  \n",
    "plt.ylabel('loss')  \n",
    "plt.xlabel('epoch')  \n",
    "plt.legend(['train', 'test'], loc='upper left')  \n",
    "plt.show()"
   ]
  },
  {
   "cell_type": "code",
   "execution_count": 123,
   "id": "ef091531-fce4-4e46-9c06-cae243893a67",
   "metadata": {},
   "outputs": [],
   "source": [
    "# preds= np.round(model.predict(validation_dataset))\n",
    "# soil_type = ['Aluvial', 'Andosol', 'Grumusol', 'Laterit', 'Mediteran', 'Organosol', 'Podsolit', 'Regosol']\n",
    "# classificiation_metrics = metrics.classification_report(validation_dataset,preds,target_names=soil_type)\n",
    "# print(classificiation_metrics)"
   ]
  },
  {
   "cell_type": "code",
   "execution_count": 134,
   "id": "00e10aab-02cf-485a-a6fd-998d9757f9b7",
   "metadata": {},
   "outputs": [],
   "source": [
    "# image_path = '1d447b4cfd644b33a1615ec7c2035a7a-5a9b4ad6f1334464e9492725.jpg'  \n",
    "   \n",
    "# orig = cv2.imread(image_path)  \n",
    "   \n",
    "# print(\"[INFO] loading and preprocessing image...\")  \n",
    "# image = load_img(image_path, target_size=(224, 224))  \n",
    "# image = img_to_array(image)  \n",
    "   \n",
    "# image = image / 255  \n",
    "   \n",
    "# image = np.expand_dims(image, axis=0)"
   ]
  },
  {
   "cell_type": "code",
   "execution_count": 132,
   "id": "eb103d25-ac8e-4215-b865-8a90a7225fd2",
   "metadata": {},
   "outputs": [],
   "source": [
    "# # build the VGG16 network  \n",
    "# module_selection = (\"mobilenet_v2\", 224, 1280)\n",
    "   \n",
    "# # get the bottleneck prediction from the pre-trained VGG16 model  \n",
    "# pred = module_selection.predict(image)  \n",
    "   \n",
    "# # # build top model  \n",
    "# # model = Sequential()  \n",
    "# # model.add(Flatten(input_shape=bottleneck_prediction.shape[1:]))  \n",
    "# # model.add(Dense(64, activation='relu'))  \n",
    "# # model.add(Dropout(0.5))  \n",
    "# # model.add(Dense(num_classes, activation='softmax'))  \n",
    "   \n",
    "# # model.load_weights(top_model_weights_path)  \n",
    "# class_predicted = model.predict_classes(pred)  "
   ]
  },
  {
   "cell_type": "code",
   "execution_count": 133,
   "id": "38b7d1ec-0a4b-49c0-aeba-c77d4ddb3b7e",
   "metadata": {},
   "outputs": [],
   "source": [
    "# inID = class_predicted[0]  \n",
    "   \n",
    "# class_dictionary = generator_top.class_indices  \n",
    "   \n",
    "# inv_map = {v: k for k, v in class_dictionary.items()}  \n",
    "   \n",
    "# label = inv_map[inID]  \n",
    "   \n",
    "#  # get the prediction label  \n",
    "# print(\"Image ID: {}, Label: {}\".format(inID, label))  \n",
    "   \n",
    "#  # display the predictions with the image  \n",
    "# cv2.putText(orig, \"Predicted: {}\".format(label), (10, 30), cv2.FONT_HERSHEY_PLAIN, 1.5, (43, 99, 255), 2)  \n",
    "   \n",
    "# cv2.imshow(\"Classification\", orig)  \n",
    "# cv2.waitKey(0)  \n",
    "# cv2.destroyAllWindows() "
   ]
  },
  {
   "cell_type": "code",
   "execution_count": 165,
   "id": "0ac9c52e-55d7-4e22-913e-5965188ac754",
   "metadata": {},
   "outputs": [],
   "source": [
    "mode = \"Speed\" \n",
    "\n",
    "if mode == 'Storage':\n",
    "    optimization = tf.lite.Optimize.OPTIMIZE_FOR_SIZE\n",
    "elif mode == 'Speed':\n",
    "    optimization = tf.lite.Optimize.OPTIMIZE_FOR_LATENCY\n",
    "else:\n",
    "    optimization = tf.lite.Optimize.DEFAULT"
   ]
  },
  {
   "cell_type": "code",
   "execution_count": 166,
   "id": "f73846f1-1412-438b-acdf-0b9479bb6912",
   "metadata": {},
   "outputs": [],
   "source": [
    "converter.optimizations = [tf.lite.Optimize.OPTIMIZE_FOR_SIZE]"
   ]
  },
  {
   "cell_type": "code",
   "execution_count": 168,
   "id": "52acd03f-1cd9-48bd-a3a9-e9138c5013a4",
   "metadata": {},
   "outputs": [],
   "source": [
    "interpreter = tf.lite.Interpreter(model_content=tflite_model)\n",
    "interpreter.allocate_tensors()\n",
    "\n",
    "input_index = interpreter.get_input_details()[0][\"index\"]\n",
    "output_index = interpreter.get_output_details()[0][\"index\"]"
   ]
  },
  {
   "cell_type": "code",
   "execution_count": 169,
   "id": "5ca3be6a-c47b-46cb-a6ff-9d48f524a4af",
   "metadata": {},
   "outputs": [
    {
     "name": "stdout",
     "output_type": "stream",
     "text": [
      "INFO:tensorflow:Assets written to: Model\\assets\n"
     ]
    },
    {
     "name": "stderr",
     "output_type": "stream",
     "text": [
      "INFO:tensorflow:Assets written to: Model\\assets\n"
     ]
    }
   ],
   "source": [
    "from tensorflow import lite\n",
    "saved_model_dir = 'Model'\n",
    "tf.saved_model.save(model, saved_model_dir)\n",
    "\n",
    "converter = tf.lite.TFLiteConverter.from_saved_model(saved_model_dir)\n",
    "tflite_model = converter.convert()\n",
    "with open('soil_classification_model.tflite', 'wb') as f:\n",
    " f.write(tflite_model)"
   ]
  },
  {
   "cell_type": "code",
   "execution_count": null,
   "id": "dec40a31-c341-4bf0-9e6d-526283abe5ab",
   "metadata": {},
   "outputs": [],
   "source": []
  }
 ],
 "metadata": {
  "kernelspec": {
   "display_name": "Python 3 (ipykernel)",
   "language": "python",
   "name": "python3"
  },
  "language_info": {
   "codemirror_mode": {
    "name": "ipython",
    "version": 3
   },
   "file_extension": ".py",
   "mimetype": "text/x-python",
   "name": "python",
   "nbconvert_exporter": "python",
   "pygments_lexer": "ipython3",
   "version": "3.7.16"
  }
 },
 "nbformat": 4,
 "nbformat_minor": 5
}
